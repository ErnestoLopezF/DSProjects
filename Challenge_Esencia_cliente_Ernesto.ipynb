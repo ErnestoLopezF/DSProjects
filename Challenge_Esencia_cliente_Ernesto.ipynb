{
  "nbformat": 4,
  "nbformat_minor": 0,
  "metadata": {
    "colab": {
      "provenance": [],
      "toc_visible": true,
      "mount_file_id": "1JFN5zhMjAsEUl4LZs97Byf96M7--7OYm",
      "authorship_tag": "ABX9TyNlXzGjUBgL03y/JLxhEZ0U",
      "include_colab_link": true
    },
    "kernelspec": {
      "name": "python3",
      "display_name": "Python 3"
    },
    "language_info": {
      "name": "python"
    }
  },
  "cells": [
    {
      "cell_type": "markdown",
      "metadata": {
        "id": "view-in-github",
        "colab_type": "text"
      },
      "source": [
        "<a href=\"https://colab.research.google.com/github/ErnestoLopezF/DSProjects/blob/main/Challenge_Esencia_cliente_Ernesto.ipynb\" target=\"_parent\"><img src=\"https://colab.research.google.com/assets/colab-badge.svg\" alt=\"Open In Colab\"/></a>"
      ]
    },
    {
      "cell_type": "markdown",
      "source": [
        "Challenge_Esencia_cliente_Ernesto\n",
        "\n",
        "#Revelando la Esencia del Cliente\n",
        "\n",
        "Sprint 01\n"
      ],
      "metadata": {
        "id": "nSdB6HVtDFd3"
      }
    },
    {
      "cell_type": "code",
      "source": [
        "from google.colab import drive\n",
        "drive.mount('/content/drive')"
      ],
      "metadata": {
        "id": "5J17Wl8H73vX",
        "colab": {
          "base_uri": "https://localhost:8080/"
        },
        "outputId": "2a938995-3e05-45ef-8e42-01c5732da454"
      },
      "execution_count": null,
      "outputs": [
        {
          "output_type": "stream",
          "name": "stdout",
          "text": [
            "Mounted at /content/drive\n"
          ]
        }
      ]
    },
    {
      "cell_type": "markdown",
      "source": [
        "##1. Configuración del Ambiente\n",
        "Instalar algunas librerías de Python que son esenciales para este proyecto, como Pandas, Numpy, Matplotlib, Seaborn, Scikit-learn, etc.\n"
      ],
      "metadata": {
        "id": "1vhz1IP3NRFY"
      }
    },
    {
      "cell_type": "code",
      "source": [
        "import numpy as np\n",
        "import pandas as pd\n",
        "import matplotlib.pyplot as plt\n",
        "# /content/drive/MyDrive/Bootcamp DS/Módulo 3 - Machine Learning/Challenge2 - Esencia del Cliente/diccionarios.py\n"
      ],
      "metadata": {
        "id": "48Kgris2OYt-"
      },
      "execution_count": null,
      "outputs": []
    },
    {
      "cell_type": "markdown",
      "source": [
        "##2. Obtención de los datos\n",
        "Habilitar los links para la descarga. La bd está en inglés; adaptarla para que quede en español"
      ],
      "metadata": {
        "id": "UtRNx5a4NRNH"
      }
    },
    {
      "cell_type": "markdown",
      "source": [
        "### Obtención del dataset inicial"
      ],
      "metadata": {
        "id": "P4OL147AQbZ_"
      }
    },
    {
      "cell_type": "code",
      "source": [
        "df = pd.read_csv(\"/content/drive/MyDrive/Bootcamp DS/Módulo 3 - Machine Learning/Challenge2 - Esencia del Cliente/media prediction and its cost.csv\")\n",
        "df.head()"
      ],
      "metadata": {
        "id": "St0fYoaZRcbL",
        "colab": {
          "base_uri": "https://localhost:8080/",
          "height": 359
        },
        "outputId": "0024d7b1-785f-418d-92e9-0be8ef00b399"
      },
      "execution_count": null,
      "outputs": [
        {
          "output_type": "execute_result",
          "data": {
            "text/plain": [
              "     food_category food_department food_family  store_sales(in millions)  \\\n",
              "0  Breakfast Foods    Frozen Foods        Food                      7.36   \n",
              "1  Breakfast Foods    Frozen Foods        Food                      5.52   \n",
              "2  Breakfast Foods    Frozen Foods        Food                      3.68   \n",
              "3  Breakfast Foods    Frozen Foods        Food                      3.68   \n",
              "4  Breakfast Foods    Frozen Foods        Food                      4.08   \n",
              "\n",
              "   store_cost(in millions)  unit_sales(in millions)         promotion_name  \\\n",
              "0                   2.7232                      4.0           Bag Stuffers   \n",
              "1                   2.5944                      3.0  Cash Register Lottery   \n",
              "2                   1.3616                      2.0    High Roller Savings   \n",
              "3                   1.1776                      2.0  Cash Register Lottery   \n",
              "4                   1.4280                      3.0       Double Down Sale   \n",
              "\n",
              "  sales_country marital_status gender  ...  grocery_sqft frozen_sqft  \\\n",
              "0           USA              M      F  ...       18670.0      5415.0   \n",
              "1           USA              M      M  ...       18670.0      5415.0   \n",
              "2           USA              S      F  ...       18670.0      5415.0   \n",
              "3           USA              M      F  ...       18670.0      5415.0   \n",
              "4           USA              M      M  ...       18670.0      5415.0   \n",
              "\n",
              "  meat_sqft coffee_bar video_store  salad_bar prepared_food  florist  \\\n",
              "0    3610.0        1.0         1.0        1.0           1.0      1.0   \n",
              "1    3610.0        1.0         1.0        1.0           1.0      1.0   \n",
              "2    3610.0        1.0         1.0        1.0           1.0      1.0   \n",
              "3    3610.0        1.0         1.0        1.0           1.0      1.0   \n",
              "4    3610.0        1.0         1.0        1.0           1.0      1.0   \n",
              "\n",
              "           media_type    cost  \n",
              "0  Daily Paper, Radio  126.62  \n",
              "1  Daily Paper, Radio   59.86  \n",
              "2  Daily Paper, Radio   84.16  \n",
              "3     In-Store Coupon   95.78  \n",
              "4               Radio   50.79  \n",
              "\n",
              "[5 rows x 40 columns]"
            ],
            "text/html": [
              "\n",
              "  <div id=\"df-b3dbf198-a69f-4928-8003-584c8fbad187\" class=\"colab-df-container\">\n",
              "    <div>\n",
              "<style scoped>\n",
              "    .dataframe tbody tr th:only-of-type {\n",
              "        vertical-align: middle;\n",
              "    }\n",
              "\n",
              "    .dataframe tbody tr th {\n",
              "        vertical-align: top;\n",
              "    }\n",
              "\n",
              "    .dataframe thead th {\n",
              "        text-align: right;\n",
              "    }\n",
              "</style>\n",
              "<table border=\"1\" class=\"dataframe\">\n",
              "  <thead>\n",
              "    <tr style=\"text-align: right;\">\n",
              "      <th></th>\n",
              "      <th>food_category</th>\n",
              "      <th>food_department</th>\n",
              "      <th>food_family</th>\n",
              "      <th>store_sales(in millions)</th>\n",
              "      <th>store_cost(in millions)</th>\n",
              "      <th>unit_sales(in millions)</th>\n",
              "      <th>promotion_name</th>\n",
              "      <th>sales_country</th>\n",
              "      <th>marital_status</th>\n",
              "      <th>gender</th>\n",
              "      <th>...</th>\n",
              "      <th>grocery_sqft</th>\n",
              "      <th>frozen_sqft</th>\n",
              "      <th>meat_sqft</th>\n",
              "      <th>coffee_bar</th>\n",
              "      <th>video_store</th>\n",
              "      <th>salad_bar</th>\n",
              "      <th>prepared_food</th>\n",
              "      <th>florist</th>\n",
              "      <th>media_type</th>\n",
              "      <th>cost</th>\n",
              "    </tr>\n",
              "  </thead>\n",
              "  <tbody>\n",
              "    <tr>\n",
              "      <th>0</th>\n",
              "      <td>Breakfast Foods</td>\n",
              "      <td>Frozen Foods</td>\n",
              "      <td>Food</td>\n",
              "      <td>7.36</td>\n",
              "      <td>2.7232</td>\n",
              "      <td>4.0</td>\n",
              "      <td>Bag Stuffers</td>\n",
              "      <td>USA</td>\n",
              "      <td>M</td>\n",
              "      <td>F</td>\n",
              "      <td>...</td>\n",
              "      <td>18670.0</td>\n",
              "      <td>5415.0</td>\n",
              "      <td>3610.0</td>\n",
              "      <td>1.0</td>\n",
              "      <td>1.0</td>\n",
              "      <td>1.0</td>\n",
              "      <td>1.0</td>\n",
              "      <td>1.0</td>\n",
              "      <td>Daily Paper, Radio</td>\n",
              "      <td>126.62</td>\n",
              "    </tr>\n",
              "    <tr>\n",
              "      <th>1</th>\n",
              "      <td>Breakfast Foods</td>\n",
              "      <td>Frozen Foods</td>\n",
              "      <td>Food</td>\n",
              "      <td>5.52</td>\n",
              "      <td>2.5944</td>\n",
              "      <td>3.0</td>\n",
              "      <td>Cash Register Lottery</td>\n",
              "      <td>USA</td>\n",
              "      <td>M</td>\n",
              "      <td>M</td>\n",
              "      <td>...</td>\n",
              "      <td>18670.0</td>\n",
              "      <td>5415.0</td>\n",
              "      <td>3610.0</td>\n",
              "      <td>1.0</td>\n",
              "      <td>1.0</td>\n",
              "      <td>1.0</td>\n",
              "      <td>1.0</td>\n",
              "      <td>1.0</td>\n",
              "      <td>Daily Paper, Radio</td>\n",
              "      <td>59.86</td>\n",
              "    </tr>\n",
              "    <tr>\n",
              "      <th>2</th>\n",
              "      <td>Breakfast Foods</td>\n",
              "      <td>Frozen Foods</td>\n",
              "      <td>Food</td>\n",
              "      <td>3.68</td>\n",
              "      <td>1.3616</td>\n",
              "      <td>2.0</td>\n",
              "      <td>High Roller Savings</td>\n",
              "      <td>USA</td>\n",
              "      <td>S</td>\n",
              "      <td>F</td>\n",
              "      <td>...</td>\n",
              "      <td>18670.0</td>\n",
              "      <td>5415.0</td>\n",
              "      <td>3610.0</td>\n",
              "      <td>1.0</td>\n",
              "      <td>1.0</td>\n",
              "      <td>1.0</td>\n",
              "      <td>1.0</td>\n",
              "      <td>1.0</td>\n",
              "      <td>Daily Paper, Radio</td>\n",
              "      <td>84.16</td>\n",
              "    </tr>\n",
              "    <tr>\n",
              "      <th>3</th>\n",
              "      <td>Breakfast Foods</td>\n",
              "      <td>Frozen Foods</td>\n",
              "      <td>Food</td>\n",
              "      <td>3.68</td>\n",
              "      <td>1.1776</td>\n",
              "      <td>2.0</td>\n",
              "      <td>Cash Register Lottery</td>\n",
              "      <td>USA</td>\n",
              "      <td>M</td>\n",
              "      <td>F</td>\n",
              "      <td>...</td>\n",
              "      <td>18670.0</td>\n",
              "      <td>5415.0</td>\n",
              "      <td>3610.0</td>\n",
              "      <td>1.0</td>\n",
              "      <td>1.0</td>\n",
              "      <td>1.0</td>\n",
              "      <td>1.0</td>\n",
              "      <td>1.0</td>\n",
              "      <td>In-Store Coupon</td>\n",
              "      <td>95.78</td>\n",
              "    </tr>\n",
              "    <tr>\n",
              "      <th>4</th>\n",
              "      <td>Breakfast Foods</td>\n",
              "      <td>Frozen Foods</td>\n",
              "      <td>Food</td>\n",
              "      <td>4.08</td>\n",
              "      <td>1.4280</td>\n",
              "      <td>3.0</td>\n",
              "      <td>Double Down Sale</td>\n",
              "      <td>USA</td>\n",
              "      <td>M</td>\n",
              "      <td>M</td>\n",
              "      <td>...</td>\n",
              "      <td>18670.0</td>\n",
              "      <td>5415.0</td>\n",
              "      <td>3610.0</td>\n",
              "      <td>1.0</td>\n",
              "      <td>1.0</td>\n",
              "      <td>1.0</td>\n",
              "      <td>1.0</td>\n",
              "      <td>1.0</td>\n",
              "      <td>Radio</td>\n",
              "      <td>50.79</td>\n",
              "    </tr>\n",
              "  </tbody>\n",
              "</table>\n",
              "<p>5 rows × 40 columns</p>\n",
              "</div>\n",
              "    <div class=\"colab-df-buttons\">\n",
              "\n",
              "  <div class=\"colab-df-container\">\n",
              "    <button class=\"colab-df-convert\" onclick=\"convertToInteractive('df-b3dbf198-a69f-4928-8003-584c8fbad187')\"\n",
              "            title=\"Convert this dataframe to an interactive table.\"\n",
              "            style=\"display:none;\">\n",
              "\n",
              "  <svg xmlns=\"http://www.w3.org/2000/svg\" height=\"24px\" viewBox=\"0 -960 960 960\">\n",
              "    <path d=\"M120-120v-720h720v720H120Zm60-500h600v-160H180v160Zm220 220h160v-160H400v160Zm0 220h160v-160H400v160ZM180-400h160v-160H180v160Zm440 0h160v-160H620v160ZM180-180h160v-160H180v160Zm440 0h160v-160H620v160Z\"/>\n",
              "  </svg>\n",
              "    </button>\n",
              "\n",
              "  <style>\n",
              "    .colab-df-container {\n",
              "      display:flex;\n",
              "      gap: 12px;\n",
              "    }\n",
              "\n",
              "    .colab-df-convert {\n",
              "      background-color: #E8F0FE;\n",
              "      border: none;\n",
              "      border-radius: 50%;\n",
              "      cursor: pointer;\n",
              "      display: none;\n",
              "      fill: #1967D2;\n",
              "      height: 32px;\n",
              "      padding: 0 0 0 0;\n",
              "      width: 32px;\n",
              "    }\n",
              "\n",
              "    .colab-df-convert:hover {\n",
              "      background-color: #E2EBFA;\n",
              "      box-shadow: 0px 1px 2px rgba(60, 64, 67, 0.3), 0px 1px 3px 1px rgba(60, 64, 67, 0.15);\n",
              "      fill: #174EA6;\n",
              "    }\n",
              "\n",
              "    .colab-df-buttons div {\n",
              "      margin-bottom: 4px;\n",
              "    }\n",
              "\n",
              "    [theme=dark] .colab-df-convert {\n",
              "      background-color: #3B4455;\n",
              "      fill: #D2E3FC;\n",
              "    }\n",
              "\n",
              "    [theme=dark] .colab-df-convert:hover {\n",
              "      background-color: #434B5C;\n",
              "      box-shadow: 0px 1px 3px 1px rgba(0, 0, 0, 0.15);\n",
              "      filter: drop-shadow(0px 1px 2px rgba(0, 0, 0, 0.3));\n",
              "      fill: #FFFFFF;\n",
              "    }\n",
              "  </style>\n",
              "\n",
              "    <script>\n",
              "      const buttonEl =\n",
              "        document.querySelector('#df-b3dbf198-a69f-4928-8003-584c8fbad187 button.colab-df-convert');\n",
              "      buttonEl.style.display =\n",
              "        google.colab.kernel.accessAllowed ? 'block' : 'none';\n",
              "\n",
              "      async function convertToInteractive(key) {\n",
              "        const element = document.querySelector('#df-b3dbf198-a69f-4928-8003-584c8fbad187');\n",
              "        const dataTable =\n",
              "          await google.colab.kernel.invokeFunction('convertToInteractive',\n",
              "                                                    [key], {});\n",
              "        if (!dataTable) return;\n",
              "\n",
              "        const docLinkHtml = 'Like what you see? Visit the ' +\n",
              "          '<a target=\"_blank\" href=https://colab.research.google.com/notebooks/data_table.ipynb>data table notebook</a>'\n",
              "          + ' to learn more about interactive tables.';\n",
              "        element.innerHTML = '';\n",
              "        dataTable['output_type'] = 'display_data';\n",
              "        await google.colab.output.renderOutput(dataTable, element);\n",
              "        const docLink = document.createElement('div');\n",
              "        docLink.innerHTML = docLinkHtml;\n",
              "        element.appendChild(docLink);\n",
              "      }\n",
              "    </script>\n",
              "  </div>\n",
              "\n",
              "\n",
              "<div id=\"df-5b2a2f9e-6640-424c-a9fe-7b7addae4d8f\">\n",
              "  <button class=\"colab-df-quickchart\" onclick=\"quickchart('df-5b2a2f9e-6640-424c-a9fe-7b7addae4d8f')\"\n",
              "            title=\"Suggest charts\"\n",
              "            style=\"display:none;\">\n",
              "\n",
              "<svg xmlns=\"http://www.w3.org/2000/svg\" height=\"24px\"viewBox=\"0 0 24 24\"\n",
              "     width=\"24px\">\n",
              "    <g>\n",
              "        <path d=\"M19 3H5c-1.1 0-2 .9-2 2v14c0 1.1.9 2 2 2h14c1.1 0 2-.9 2-2V5c0-1.1-.9-2-2-2zM9 17H7v-7h2v7zm4 0h-2V7h2v10zm4 0h-2v-4h2v4z\"/>\n",
              "    </g>\n",
              "</svg>\n",
              "  </button>\n",
              "\n",
              "<style>\n",
              "  .colab-df-quickchart {\n",
              "      --bg-color: #E8F0FE;\n",
              "      --fill-color: #1967D2;\n",
              "      --hover-bg-color: #E2EBFA;\n",
              "      --hover-fill-color: #174EA6;\n",
              "      --disabled-fill-color: #AAA;\n",
              "      --disabled-bg-color: #DDD;\n",
              "  }\n",
              "\n",
              "  [theme=dark] .colab-df-quickchart {\n",
              "      --bg-color: #3B4455;\n",
              "      --fill-color: #D2E3FC;\n",
              "      --hover-bg-color: #434B5C;\n",
              "      --hover-fill-color: #FFFFFF;\n",
              "      --disabled-bg-color: #3B4455;\n",
              "      --disabled-fill-color: #666;\n",
              "  }\n",
              "\n",
              "  .colab-df-quickchart {\n",
              "    background-color: var(--bg-color);\n",
              "    border: none;\n",
              "    border-radius: 50%;\n",
              "    cursor: pointer;\n",
              "    display: none;\n",
              "    fill: var(--fill-color);\n",
              "    height: 32px;\n",
              "    padding: 0;\n",
              "    width: 32px;\n",
              "  }\n",
              "\n",
              "  .colab-df-quickchart:hover {\n",
              "    background-color: var(--hover-bg-color);\n",
              "    box-shadow: 0 1px 2px rgba(60, 64, 67, 0.3), 0 1px 3px 1px rgba(60, 64, 67, 0.15);\n",
              "    fill: var(--button-hover-fill-color);\n",
              "  }\n",
              "\n",
              "  .colab-df-quickchart-complete:disabled,\n",
              "  .colab-df-quickchart-complete:disabled:hover {\n",
              "    background-color: var(--disabled-bg-color);\n",
              "    fill: var(--disabled-fill-color);\n",
              "    box-shadow: none;\n",
              "  }\n",
              "\n",
              "  .colab-df-spinner {\n",
              "    border: 2px solid var(--fill-color);\n",
              "    border-color: transparent;\n",
              "    border-bottom-color: var(--fill-color);\n",
              "    animation:\n",
              "      spin 1s steps(1) infinite;\n",
              "  }\n",
              "\n",
              "  @keyframes spin {\n",
              "    0% {\n",
              "      border-color: transparent;\n",
              "      border-bottom-color: var(--fill-color);\n",
              "      border-left-color: var(--fill-color);\n",
              "    }\n",
              "    20% {\n",
              "      border-color: transparent;\n",
              "      border-left-color: var(--fill-color);\n",
              "      border-top-color: var(--fill-color);\n",
              "    }\n",
              "    30% {\n",
              "      border-color: transparent;\n",
              "      border-left-color: var(--fill-color);\n",
              "      border-top-color: var(--fill-color);\n",
              "      border-right-color: var(--fill-color);\n",
              "    }\n",
              "    40% {\n",
              "      border-color: transparent;\n",
              "      border-right-color: var(--fill-color);\n",
              "      border-top-color: var(--fill-color);\n",
              "    }\n",
              "    60% {\n",
              "      border-color: transparent;\n",
              "      border-right-color: var(--fill-color);\n",
              "    }\n",
              "    80% {\n",
              "      border-color: transparent;\n",
              "      border-right-color: var(--fill-color);\n",
              "      border-bottom-color: var(--fill-color);\n",
              "    }\n",
              "    90% {\n",
              "      border-color: transparent;\n",
              "      border-bottom-color: var(--fill-color);\n",
              "    }\n",
              "  }\n",
              "</style>\n",
              "\n",
              "  <script>\n",
              "    async function quickchart(key) {\n",
              "      const quickchartButtonEl =\n",
              "        document.querySelector('#' + key + ' button');\n",
              "      quickchartButtonEl.disabled = true;  // To prevent multiple clicks.\n",
              "      quickchartButtonEl.classList.add('colab-df-spinner');\n",
              "      try {\n",
              "        const charts = await google.colab.kernel.invokeFunction(\n",
              "            'suggestCharts', [key], {});\n",
              "      } catch (error) {\n",
              "        console.error('Error during call to suggestCharts:', error);\n",
              "      }\n",
              "      quickchartButtonEl.classList.remove('colab-df-spinner');\n",
              "      quickchartButtonEl.classList.add('colab-df-quickchart-complete');\n",
              "    }\n",
              "    (() => {\n",
              "      let quickchartButtonEl =\n",
              "        document.querySelector('#df-5b2a2f9e-6640-424c-a9fe-7b7addae4d8f button');\n",
              "      quickchartButtonEl.style.display =\n",
              "        google.colab.kernel.accessAllowed ? 'block' : 'none';\n",
              "    })();\n",
              "  </script>\n",
              "</div>\n",
              "\n",
              "    </div>\n",
              "  </div>\n"
            ]
          },
          "metadata": {},
          "execution_count": 5
        }
      ]
    },
    {
      "cell_type": "code",
      "source": [
        "df.shape"
      ],
      "metadata": {
        "colab": {
          "base_uri": "https://localhost:8080/"
        },
        "id": "IRn4mMeFHXAB",
        "outputId": "33a5a914-8bf6-4a1f-aa38-e5aaee086290"
      },
      "execution_count": null,
      "outputs": [
        {
          "output_type": "execute_result",
          "data": {
            "text/plain": [
              "(60428, 40)"
            ]
          },
          "metadata": {},
          "execution_count": 8
        }
      ]
    },
    {
      "cell_type": "code",
      "source": [
        "df.columns"
      ],
      "metadata": {
        "colab": {
          "base_uri": "https://localhost:8080/"
        },
        "id": "3h1h-26IHXLn",
        "outputId": "1982a667-3547-43c0-e482-2abde3392d6c"
      },
      "execution_count": null,
      "outputs": [
        {
          "output_type": "execute_result",
          "data": {
            "text/plain": [
              "Index(['food_category', 'food_department', 'food_family',\n",
              "       'store_sales(in millions)', 'store_cost(in millions)',\n",
              "       'unit_sales(in millions)', 'promotion_name', 'sales_country',\n",
              "       'marital_status', 'gender', 'total_children', 'education',\n",
              "       'member_card', 'occupation', 'houseowner', 'avg_cars_at home(approx)',\n",
              "       'avg. yearly_income', 'num_children_at_home',\n",
              "       'avg_cars_at home(approx).1', 'brand_name', 'SRP', 'gross_weight',\n",
              "       'net_weight', 'recyclable_package', 'low_fat', 'units_per_case',\n",
              "       'store_type', 'store_city', 'store_state', 'store_sqft', 'grocery_sqft',\n",
              "       'frozen_sqft', 'meat_sqft', 'coffee_bar', 'video_store', 'salad_bar',\n",
              "       'prepared_food', 'florist', 'media_type', 'cost'],\n",
              "      dtype='object')"
            ]
          },
          "metadata": {},
          "execution_count": 21
        }
      ]
    },
    {
      "cell_type": "code",
      "source": [
        "# Traducción a idioma español de los nombres de columnas\n",
        "\n",
        "columnas = {\n",
        "    'food_category': 'categoria_alimento',\n",
        "    'food_department': 'departamento',\n",
        "    'food_family': 'tipo',\n",
        "    'store_sales(in millions)': 'ventas_tienda(en millones)',\n",
        "    'store_cost(in millions)': 'costo_tienda(en millones)',\n",
        "    'unit_sales(in millions)': 'ventas_unitarias(en millones)',\n",
        "    'promotion_name': 'promocion',\n",
        "    'sales_country': 'pais',\n",
        "    'marital_status': 'estado_civil',\n",
        "    'gender': 'genero',\n",
        "    'total_children': 'total_de_hijos',\n",
        "    'education': 'escolaridad',\n",
        "    'member_card': 'miembro',\n",
        "    'occupation': 'ocupacion',\n",
        "    'houseowner': 'vivienda_propia',\n",
        "    'avg_cars_at home(approx)': 'promedio_autos(aprox)',\n",
        "    'avg. yearly_income': 'ingreso_anual',\n",
        "    'num_children_at_home': 'numero_hijos',\n",
        "    'avg_cars_at home(approx).1': 'promedio_autos(aprox)',\n",
        "    'brand_name': 'marca',\n",
        "    'SRP': 'precio_recomendado',\n",
        "    'gross_weight': 'peso_bruto',\n",
        "    'net_weight': 'peso_neto',\n",
        "    'recyclable_package': 'empaque_reciclable',\n",
        "    'low_fat': 'bajo_en_grasa',\n",
        "    'units_per_case': 'unidades_por_caja',\n",
        "    'store_type': 'comercio',\n",
        "    'store_city': 'ciudad',\n",
        "    'store_state': 'estado',\n",
        "    'store_sqft': 'pies_cuadrados_tienda',\n",
        "    'grocery_sqft': 'pies_cuadrados_comestibles',\n",
        "    'frozen_sqft': 'pies_cuadrados_congelados',\n",
        "    'meat_sqft': 'pies_cuadrados_carne',\n",
        "    'coffee_bar': 'cafeteria',\n",
        "    'video_store': 'tienda_de_videos',\n",
        "    'salad_bar': 'barra_de_ensaladas',\n",
        "    'prepared_food': 'comida_preparada',\n",
        "    'florist': 'floristeria',\n",
        "    'media_type': 'divulgacion',\n",
        "    'cost': 'costo'\n",
        "}\n",
        "\n"
      ],
      "metadata": {
        "id": "oYDhyjC-NAck"
      },
      "execution_count": null,
      "outputs": []
    },
    {
      "cell_type": "code",
      "source": [
        "#\n",
        "df.columns = df.columns.map(columnas)\n",
        "df.columns"
      ],
      "metadata": {
        "colab": {
          "base_uri": "https://localhost:8080/"
        },
        "id": "O9Jykz1dOTaI",
        "outputId": "f9b6f00f-f907-4286-ef56-343b04353a1f"
      },
      "execution_count": null,
      "outputs": [
        {
          "output_type": "execute_result",
          "data": {
            "text/plain": [
              "Index(['categoria_alimento', 'departamento', 'tipo',\n",
              "       'ventas_tienda(en millones)', 'costo_tienda(en millones)',\n",
              "       'ventas_unitarias(en millones)', 'promocion', 'pais', 'estado_civil',\n",
              "       'genero', 'total_de_hijos', 'escolaridad', 'miembro', 'ocupacion',\n",
              "       'vivienda_propia', 'promedio_autos(aprox)', 'ingreso_anual',\n",
              "       'numero_hijos', 'promedio_autos(aprox)', 'marca', 'precio_recomendado',\n",
              "       'peso_bruto', 'peso_neto', 'empaque_reciclable', 'bajo_en_grasa',\n",
              "       'unidades_por_caja', 'comercio', 'ciudad', 'estado',\n",
              "       'pies_cuadrados_tienda', 'pies_cuadrados_comestibles',\n",
              "       'pies_cuadrados_congelados', 'pies_cuadrados_carne', 'cafeteria',\n",
              "       'tienda_de_videos', 'barra_de_ensaladas', 'comida_preparada',\n",
              "       'floristeria', 'divulgacion', 'costo'],\n",
              "      dtype='object')"
            ]
          },
          "metadata": {},
          "execution_count": 57
        }
      ]
    },
    {
      "cell_type": "code",
      "source": [
        "# Traducción a idioma español de los datos de la columna [categoria_alimento]"
      ],
      "metadata": {
        "id": "Cn4SfGo8OcA9"
      },
      "execution_count": null,
      "outputs": []
    },
    {
      "cell_type": "code",
      "source": [
        "df['categoria_alimento'].unique()"
      ],
      "metadata": {
        "id": "lY1wEjg0cGvt"
      },
      "execution_count": null,
      "outputs": []
    },
    {
      "cell_type": "code",
      "source": [
        "# definiendo diccionario de traducción de los datos de la columna [categoria_alimento]\n",
        "\n",
        "categoria_alimento = {\n",
        "    'Vegetables': 'Vegetales',\n",
        "    'Snack Foods': 'Alimentos para picar',\n",
        "    'Dairy': 'Productos lácteos',\n",
        "    'Meat': 'Carne',\n",
        "    'Fruit': 'Fruta',\n",
        "    'Jams and Jellies': 'Mermeladas y jaleas',\n",
        "    'Baking Goods': 'Productos para hornear',\n",
        "    'Breakfast Foods': 'Alimentos para el desayuno',\n",
        "    'Bread': 'Pan',\n",
        "    'Canned Soup': 'Sopa enlatada',\n",
        "    'Beer and Wine': 'Cerveza y vino',\n",
        "    'Paper Products': 'Productos de papel',\n",
        "    'Bathroom Products': 'Productos de baño',\n",
        "    'Electrical': 'Eléctrico',\n",
        "    'Candy': 'Dulces',\n",
        "    'Frozen Desserts': 'Postres congelados',\n",
        "    'Specialty': 'Especialidades',\n",
        "    'Starchy Foods': 'Alimentos ricos en almidón',\n",
        "    'Magazines': 'Revistas',\n",
        "    'Kitchen Products': 'Productos de cocina',\n",
        "    'Eggs': 'Huevos',\n",
        "    'Hot Beverages': 'Bebidas calientes',\n",
        "    'Hygiene': 'Higiene',\n",
        "    'Pain Relievers': 'Analgésicos',\n",
        "    'Pizza': 'Pizza',\n",
        "    'Carbonated Beverages': 'Bebidas carbonatadas',\n",
        "    'Pure Juice Beverages': 'Bebidas de jugo puro',\n",
        "    'Cleaning Supplies': 'Suministros de limpieza',\n",
        "    'Side Dishes': 'Acompañamientos',\n",
        "    'Frozen Entrees': 'Platos preparados congelados',\n",
        "    'Drinks': 'Bebidas',\n",
        "    'Plastic Products': 'Productos de plástico',\n",
        "    'Hardware': 'Artículos de ferretería',\n",
        "    'Cold Remedies': 'Remedios para el resfriado',\n",
        "    'Decongestants': 'Descongestionantes',\n",
        "    'Canned Tuna': 'Atún enlatado',\n",
        "    'Seafood': 'Mariscos',\n",
        "    'Canned Anchovies': 'Anchoas enlatadas',\n",
        "    'Canned Clams': 'Almejas enlatadas',\n",
        "    'Candles': 'Velas',\n",
        "    'Miscellaneous': 'Misceláneos',\n",
        "    'Canned Oysters': 'Ostras enlatadas',\n",
        "    'Canned Shrimp': 'Camarones enlatados',\n",
        "    'Packaged Vegetables': 'Vegetales envasados',\n",
        "    'Canned Sardines': 'Sardinas enlatadas'\n",
        "}"
      ],
      "metadata": {
        "id": "TrDhC8F-OJay"
      },
      "execution_count": null,
      "outputs": []
    },
    {
      "cell_type": "code",
      "source": [
        "# traduciendo\n",
        "df['categoria_alimento'] = df['categoria_alimento'].map(categoria_alimento)\n",
        "df['categoria_alimento'].unique()"
      ],
      "metadata": {
        "colab": {
          "base_uri": "https://localhost:8080/"
        },
        "id": "038VVn3yQkTE",
        "outputId": "22dda85f-3bad-4eb1-e13f-881e41315d9f"
      },
      "execution_count": null,
      "outputs": [
        {
          "output_type": "execute_result",
          "data": {
            "text/plain": [
              "array(['Alimentos para el desayuno', 'Pan', 'Camarones enlatados',\n",
              "       'Productos para hornear', 'Vegetales', 'Postres congelados',\n",
              "       'Dulces', 'Alimentos para picar', 'Productos lácteos',\n",
              "       'Alimentos ricos en almidón', 'Suministros de limpieza',\n",
              "       'Descongestionantes', 'Carne', 'Bebidas calientes',\n",
              "       'Mermeladas y jaleas', 'Bebidas carbonatadas', 'Mariscos',\n",
              "       'Especialidades', 'Productos de cocina', 'Eléctrico',\n",
              "       'Cerveza y vino', 'Velas', 'Fruta', 'Bebidas de jugo puro',\n",
              "       'Sopa enlatada', 'Productos de papel', 'Atún enlatado', 'Huevos',\n",
              "       'Artículos de ferretería', 'Sardinas enlatadas',\n",
              "       'Almejas enlatadas', 'Analgésicos', 'Acompañamientos',\n",
              "       'Productos de baño', 'Revistas', 'Platos preparados congelados',\n",
              "       'Pizza', 'Remedios para el resfriado', 'Anchoas enlatadas',\n",
              "       'Bebidas', 'Higiene', 'Productos de plástico', 'Ostras enlatadas',\n",
              "       'Vegetales envasados', 'Misceláneos'], dtype=object)"
            ]
          },
          "metadata": {},
          "execution_count": 37
        }
      ]
    },
    {
      "cell_type": "code",
      "source": [
        "# definiendo diccionarios de traducción del resto de las columnas\n",
        "\n",
        "departamento = {\n",
        "    'Produce': 'Productos frescos',\n",
        "    'Snack Foods': 'Alimentos para picar',\n",
        "    'Household': 'Artículos para el hogar',\n",
        "    'Frozen Foods': 'Alimentos congelados',\n",
        "    'Baking Goods': 'Productos para hornear',\n",
        "    'Canned Foods': 'Alimentos enlatados',\n",
        "    'Dairy': 'Productos lácteos',\n",
        "    'Health and Hygiene': 'Salud e higiene',\n",
        "    'Beverages': 'Bebidas',\n",
        "    'Deli': 'Charcutería',\n",
        "    'Baked Goods': 'Productos horneados',\n",
        "    'Alcoholic Beverages': 'Bebidas alcohólicas',\n",
        "    'Snacks': 'Snacks',\n",
        "    'Starchy Foods': 'Alimentos ricos en almidón',\n",
        "    'Periodicals': 'Publicaciones periódicas',\n",
        "    'Eggs': 'Huevos',\n",
        "    'Breakfast Foods': 'Alimentos para el desayuno',\n",
        "    'Canned Products': 'Productos enlatados',\n",
        "    'Checkout': 'Caja de salida',\n",
        "    'Meat': 'Carne',\n",
        "    'Seafood': 'Mariscos',\n",
        "    'Carousel': 'Carrusel'\n",
        "}\n",
        "\n",
        "tipo= {'Food':'Comida', 'Non-Consumable':'No comestible', 'Drink':'Bebida'}\n",
        "\n",
        "promocion = {\n",
        "    'Weekend Markdown': 'Descuento de fin de semana',\n",
        "    'Two Day Sale': 'Venta de dos días',\n",
        "    'Price Savers': 'Ahorro de precios',\n",
        "    'Price Winners': 'Ganadores de precios',\n",
        "    'Save-It Sale': 'Venta Ahorra Ya',\n",
        "    'Super Duper Savers': 'Super Ahorradores',\n",
        "    'Super Savers': 'Super Ahorro',\n",
        "    'One Day Sale': 'Venta de un día',\n",
        "    'Double Down Sale': 'Venta Doble',\n",
        "    'High Roller Savings': 'Ahorro para apostadores grandes',\n",
        "    'Green Light Days': 'Días de luz verde',\n",
        "    'Shelf Clearing Days': 'Días de liquidación de estanterías',\n",
        "    'Price Slashers': 'Rebajadores de precios',\n",
        "    'Free For All': 'Gratis para todos',\n",
        "    'Cash Register Lottery': 'Lotería de la caja registradora',\n",
        "    'Go For It': 'Adelante',\n",
        "    'Two for One': 'Dos por uno',\n",
        "    'Money Savers': 'Ahorradores de dinero',\n",
        "    'Big Time Discounts': 'Descuentos de gran magnitud',\n",
        "    'Price Destroyers': 'Destructores de precios',\n",
        "    'Saving Days': 'Días de ahorro',\n",
        "    'Dollar Cutters': 'Recortadores de dólares',\n",
        "    'Unbeatable Price Savers': 'Ahorro de precios imbatible',\n",
        "    'Sales Galore': 'Promociones por montones',\n",
        "    'Big Promo': 'Gran promoción',\n",
        "    'Dimes Off': 'Más barato',\n",
        "    'Sales Days': 'Días de venta',\n",
        "    'Price Cutters': 'Rebajando precios',\n",
        "    'You Save Days': 'Días de ahorro',\n",
        "    'Savings Galore': 'Ahorros por montones',\n",
        "    'Bag Stuffers': 'Bolsas llenas',\n",
        "    'Three for One': 'Tres por uno',\n",
        "    'I Cant Believe It Sale': 'Venta No Puedo Creerlo',\n",
        "    'Sale Winners': 'Ganadores de ventas',\n",
        "    'Pick Your Savings': 'Elige tus ahorros',\n",
        "    'Bye Bye Baby': 'Adiós bebé',\n",
        "    'Best Savings': 'Mejores ahorros',\n",
        "    'Tip Top Savings': 'Ahorro de primera clase',\n",
        "    'Shelf Emptiers': 'Estantes vacíos',\n",
        "    'Big Time Savings': 'Ahorro Enorme',\n",
        "    'Wallet Savers': 'Ahorradores de billetera',\n",
        "    'Dollar Days': 'Días de dólar',\n",
        "    'Mystery Sale': 'Venta misteriosa',\n",
        "    'Price Smashers': 'Aplastadores de precios',\n",
        "    'Green Light Special': 'Especial luz verde',\n",
        "    'Coupon Spectacular': 'Espectacular de cupones',\n",
        "    'Super Wallet Savers': 'Super ahorradores de billetera',\n",
        "    'Double Your Savings': 'Duplica tus ahorros',\n",
        "    'Fantastic Discounts': 'Descuentos fantásticos'\n",
        "}\n",
        "\n",
        "escolaridad = {\n",
        "    'Partial High School':'Primaria',\n",
        "    'High School Degree':'Secundaria',\n",
        "    'Bachelors Degree':'Superior',\n",
        "    'Partial College':'Técnico',\n",
        "    'Graduate Degree':'Maestría'\n",
        "}\n",
        "\n",
        "miembro = {\n",
        "    'Bronze':'Bronce',\n",
        "    'Golden': 'Oro',\n",
        "    'Silver':'Plata'\n",
        "}\n",
        "\n",
        "ocupacion = {\n",
        "    'Professional':'Profesional',\n",
        "    'Skilled Manual':'Técnico',\n",
        "    'Manual':'Obrero',\n",
        "    'Management':'Gestión',\n",
        "    'Clerical':'Cargo de Oficina'\n",
        "}\n",
        "\n",
        "pais = {\n",
        "    'USA':'Estados Unidos',\n",
        "    'Mexico':'México',\n",
        "    'Canada':'Canadá'\n",
        "}\n",
        "\n",
        "estado_civil = {\n",
        "    'S':'Soltero', 'M':'Casado'\n",
        "}\n",
        "\n",
        "genero ={\n",
        "    'F':'Femenino',\n",
        "    'M':'Masculino'\n",
        "}\n",
        "\n",
        "vivienda_propia={'Y':'Sí', 'N':'No'}\n",
        "\n",
        "ingreso_anual={\n",
        "    '$30K - $50K':40000,\n",
        "    '$10K - $30K':20000,\n",
        "    '$50K - $70K':60000,\n",
        "    '$70K - $90K':80000,\n",
        "    '$130K - $150K':140000,\n",
        "    '$90K - $110K':100000,\n",
        "    '$110K - $130K':120000,\n",
        "    '$150K +':160000\n",
        "}\n",
        "\n",
        "comercio = {\n",
        "    'Supermarket': 'Supermercado',\n",
        "    'Deluxe Supermarket': 'Supermercado de lujo',\n",
        "    'Gourmet Supermarket': 'Supermercado gourmet',\n",
        "    'Mid-Size Grocery': 'Supermercado mediano',\n",
        "    'Small Grocery': 'Pequeño supermercado'\n",
        "}\n",
        "\n",
        "divulgacion = {\n",
        "    'Daily Paper, Radio': 'Periódico diario, radio',\n",
        "    'Product Attachment': 'Anexo del producto',\n",
        "    'Daily Paper, Radio, TV': 'Periódico diario, radio, televisión',\n",
        "    'Daily Paper': 'Periódico diario',\n",
        "    'Street Handout': 'Panfletos',\n",
        "    'Radio': 'Radio',\n",
        "    'Sunday Paper': 'Periódico dominical',\n",
        "    'In-Store Coupon': 'Cupón en la tienda',\n",
        "    'Sunday Paper, Radio': 'Periódico dominical, radio',\n",
        "    'Cash Register Handout': 'Entrega en el punto de venta',\n",
        "    'TV': 'Televisión',\n",
        "    'Bulk Mail': 'Correo masivo',\n",
        "    'Sunday Paper, Radio, TV': 'Periódico dominical, radio, televisión'\n",
        "}\n",
        "\n"
      ],
      "metadata": {
        "id": "J9LGP7S7MXt6"
      },
      "execution_count": null,
      "outputs": []
    },
    {
      "cell_type": "code",
      "source": [
        "# Traducción a idioma español del contenido de las columnas\n",
        "df['departamento'] = df['departamento'].map(departamento)\n",
        "df['tipo'] = df['tipo'].map(tipo)\n",
        "df['promocion'] = df['promocion'].map(promocion)\n",
        "df['escolaridad'] = df['escolaridad'].map(escolaridad)\n",
        "df['miembro'] = df['miembro'].map(miembro)\n",
        "df['ocupacion'] = df['ocupacion'].map(ocupacion)\n",
        "df['pais'] = df['pais'].map(pais)\n",
        "df['estado_civil'] = df['estado_civil'].map(estado_civil)\n",
        "df['genero'] = df['genero'].map(genero)\n",
        "df['vivienda_propia'] = df['vivienda_propia'].map(vivienda_propia)\n",
        "df['ingreso_anual'] = df['ingreso_anual'].map(ingreso_anual)\n",
        "df['comercio'] = df['comercio'].map(comercio)\n",
        "df['divulgacion'] = df['divulgacion'].map(divulgacion)\n"
      ],
      "metadata": {
        "id": "Nuufr_6eMXzD"
      },
      "execution_count": null,
      "outputs": []
    },
    {
      "cell_type": "code",
      "source": [
        "df['divulgacion'].unique()"
      ],
      "metadata": {
        "colab": {
          "base_uri": "https://localhost:8080/"
        },
        "id": "3fJBVKSmMX5O",
        "outputId": "53da5b81-c424-4b39-bef7-32bb03899ae6"
      },
      "execution_count": null,
      "outputs": [
        {
          "output_type": "execute_result",
          "data": {
            "text/plain": [
              "array(['Periódico diario, radio', 'Cupón en la tienda', 'Radio',\n",
              "       'Periódico diario', 'Anexo del producto',\n",
              "       'Periódico dominical, radio',\n",
              "       'Periódico dominical, radio, televisión', 'Periódico dominical',\n",
              "       'Panfletos', 'Televisión', 'Correo masivo',\n",
              "       'Entrega en el punto de venta',\n",
              "       'Periódico diario, radio, televisión'], dtype=object)"
            ]
          },
          "metadata": {},
          "execution_count": 56
        }
      ]
    },
    {
      "cell_type": "code",
      "source": [],
      "metadata": {
        "id": "x-TqsAyBMX-U"
      },
      "execution_count": null,
      "outputs": []
    },
    {
      "cell_type": "code",
      "source": [],
      "metadata": {
        "id": "t3OnfRuXMYVt"
      },
      "execution_count": null,
      "outputs": []
    },
    {
      "cell_type": "markdown",
      "source": [
        "### Transformaciones al dataset inicial"
      ],
      "metadata": {
        "id": "bQKNO0F5Qs7b"
      }
    },
    {
      "cell_type": "code",
      "source": [],
      "metadata": {
        "id": "2gdnzMCaRdF4"
      },
      "execution_count": null,
      "outputs": []
    },
    {
      "cell_type": "markdown",
      "source": [
        "###Dataset para el análisis"
      ],
      "metadata": {
        "id": "wilutR8_QxgW"
      }
    },
    {
      "cell_type": "code",
      "source": [],
      "metadata": {
        "id": "3S-kKfsqOnpz"
      },
      "execution_count": null,
      "outputs": []
    },
    {
      "cell_type": "markdown",
      "source": [
        "##3.Exploración de los datos\n",
        "Con el dataset para el análisis preparado, emplear las bibliotecas Matplotlib y Seaborn para generar algunas visualizaciones que permitan entender la composición del dataset, evaluar la distribución entre las variables, y realizar algunas comparaciones, entre otras operaciones"
      ],
      "metadata": {
        "id": "HtTOpMj6NRS4"
      }
    },
    {
      "cell_type": "markdown",
      "source": [
        "### Análisis visual de los datos\n"
      ],
      "metadata": {
        "id": "lixJjk4yPjP_"
      }
    },
    {
      "cell_type": "code",
      "source": [],
      "metadata": {
        "id": "4JaJrPOpOttt"
      },
      "execution_count": null,
      "outputs": []
    },
    {
      "cell_type": "markdown",
      "source": [
        "##4. Preprocesamiento y Obtención de Features\n",
        "Tomar variables categóricas y buscar algún mecanismo de codificación para que el algoritmo de clusterización pueda entender el conjunto de datos que será procesado. Adicionalmente, reducir la dimensionalidad del dataset seleccionando los atributos que mejor representan el conjunto de datos, y finalmente traer todos los datos a la misma escala mediante una estandarización de los mismos"
      ],
      "metadata": {
        "id": "RXix0ogONRYY"
      }
    },
    {
      "cell_type": "markdown",
      "source": [
        "###Transformaciones y selección de atributos"
      ],
      "metadata": {
        "id": "AbUesCCwPsEu"
      }
    },
    {
      "cell_type": "code",
      "source": [],
      "metadata": {
        "id": "tKLdc5MhPyyY"
      },
      "execution_count": null,
      "outputs": []
    },
    {
      "cell_type": "markdown",
      "source": [
        "###Estandarización de los datos\n"
      ],
      "metadata": {
        "id": "y8Vt2oXBP21X"
      }
    },
    {
      "cell_type": "code",
      "source": [],
      "metadata": {
        "id": "za-ZTNJjO2r4"
      },
      "execution_count": null,
      "outputs": []
    },
    {
      "cell_type": "markdown",
      "source": [
        "##5. Clusterización y validación\n",
        "Realizar una serie de experimentos: variar el número de clusters, evaluar su estructura, y su estabilidad aplicando diversas métricas de validación. Tras hallar la mejor configuración para los clusters, proceder a instanciarlo"
      ],
      "metadata": {
        "id": "_JTdIiTKNRdu"
      }
    },
    {
      "cell_type": "markdown",
      "source": [
        "### Variación del número de clusters"
      ],
      "metadata": {
        "id": "1I_qHeldQDT0"
      }
    },
    {
      "cell_type": "code",
      "source": [],
      "metadata": {
        "id": "WMHo4JZkTIEd"
      },
      "execution_count": null,
      "outputs": []
    },
    {
      "cell_type": "markdown",
      "source": [
        "### Evaluación de la estructura de los clusters\n"
      ],
      "metadata": {
        "id": "rDLSB9_OQEP_"
      }
    },
    {
      "cell_type": "code",
      "source": [],
      "metadata": {
        "id": "lSOozAA2S_48"
      },
      "execution_count": null,
      "outputs": []
    },
    {
      "cell_type": "markdown",
      "source": [
        "###Evaluación de la estabilidad de los clusters\n"
      ],
      "metadata": {
        "id": "Ob_HdplPQEk1"
      }
    },
    {
      "cell_type": "code",
      "source": [],
      "metadata": {
        "id": "UVgT5e5pUyMG"
      },
      "execution_count": null,
      "outputs": []
    },
    {
      "cell_type": "markdown",
      "source": [
        "### Instanciando la mejor configuración de clusters"
      ],
      "metadata": {
        "id": "QRJJskuqUpeD"
      }
    },
    {
      "cell_type": "code",
      "source": [],
      "metadata": {
        "id": "RspzrFA7PBAT"
      },
      "execution_count": null,
      "outputs": []
    },
    {
      "cell_type": "markdown",
      "source": [
        "### Análisis de los otros clusters"
      ],
      "metadata": {
        "id": "bjQDEOGDVGTT"
      }
    },
    {
      "cell_type": "code",
      "source": [],
      "metadata": {
        "id": "-7yowLYPVLVv"
      },
      "execution_count": null,
      "outputs": []
    },
    {
      "cell_type": "markdown",
      "source": [
        "## 6. Análisis e interpretación de los clusters\n",
        "Aplicar las competencias analíticas para describir los hallazgos en cada uno de los clusters generados, y así plantear posibles estrategias para mejorar la experiencia de los clientes."
      ],
      "metadata": {
        "id": "4DXRB0muV0Rx"
      }
    },
    {
      "cell_type": "markdown",
      "source": [
        "### Descripción de los clusters\n"
      ],
      "metadata": {
        "id": "6yaWauJ-NRk6"
      }
    },
    {
      "cell_type": "code",
      "source": [],
      "metadata": {
        "id": "fR49BZ5wPFy1"
      },
      "execution_count": null,
      "outputs": []
    },
    {
      "cell_type": "markdown",
      "source": [
        "### Posibles Estrategias a implementar"
      ],
      "metadata": {
        "id": "nZwmtlhvWNI9"
      }
    },
    {
      "cell_type": "code",
      "source": [],
      "metadata": {
        "id": "K9bryE6XWN70"
      },
      "execution_count": null,
      "outputs": []
    },
    {
      "cell_type": "markdown",
      "source": [
        "##7.Conclusiones\n"
      ],
      "metadata": {
        "id": "cqfCV0qAPGHs"
      }
    },
    {
      "cell_type": "markdown",
      "source": [],
      "metadata": {
        "id": "Hq05-P5BPNZy"
      }
    }
  ]
}